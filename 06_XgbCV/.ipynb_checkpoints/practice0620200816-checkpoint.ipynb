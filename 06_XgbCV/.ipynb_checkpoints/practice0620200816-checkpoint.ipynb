{
 "cells": [
  {
   "cell_type": "markdown",
   "metadata": {},
   "source": [
    "# XGB + CV"
   ]
  },
  {
   "cell_type": "code",
   "execution_count": 1,
   "metadata": {},
   "outputs": [],
   "source": [
    "import os\n",
    "import re\n",
    "import math\n",
    "import string\n",
    "import numpy as np\n",
    "import pandas as pd\n",
    "from collections import Counter \n",
    "import matplotlib.pyplot as plt\n",
    "\n",
    "from sklearn.svm import SVC\n",
    "from sklearn.neighbors import KNeighborsClassifier  ## KNN\n",
    "from sklearn.linear_model import LogisticRegressionCV  ## logistic regression\n",
    "from sklearn.tree import DecisionTreeClassifier  ## decision tree\n",
    "from sklearn.ensemble import RandomForestClassifier, AdaBoostClassifier\n",
    "\n",
    "import xgboost\n",
    "from xgboost import XGBClassifier\n",
    "\n",
    "from preprocess import preprocess\n",
    "from planar_utils import plot_decision_boundary, sigmoid, load_planar_dataset, load_extra_datasets\n",
    "plt.rcParams['figure.figsize'] = [10, 8]"
   ]
  },
  {
   "cell_type": "markdown",
   "metadata": {
    "collapsed": true
   },
   "source": [
    "# 鐵達尼號資料集"
   ]
  },
  {
   "cell_type": "code",
   "execution_count": 3,
   "metadata": {
    "scrolled": true
   },
   "outputs": [
    {
     "data": {
      "text/html": [
       "<div>\n",
       "<style scoped>\n",
       "    .dataframe tbody tr th:only-of-type {\n",
       "        vertical-align: middle;\n",
       "    }\n",
       "\n",
       "    .dataframe tbody tr th {\n",
       "        vertical-align: top;\n",
       "    }\n",
       "\n",
       "    .dataframe thead th {\n",
       "        text-align: right;\n",
       "    }\n",
       "</style>\n",
       "<table border=\"1\" class=\"dataframe\">\n",
       "  <thead>\n",
       "    <tr style=\"text-align: right;\">\n",
       "      <th></th>\n",
       "      <th>PassengerId</th>\n",
       "      <th>Survived</th>\n",
       "      <th>Pclass</th>\n",
       "      <th>Sex</th>\n",
       "      <th>Age</th>\n",
       "      <th>SibSp</th>\n",
       "      <th>Parch</th>\n",
       "      <th>Ticket</th>\n",
       "      <th>Cabin</th>\n",
       "      <th>Embarked</th>\n",
       "      <th>Has_Cabin</th>\n",
       "      <th>Age_Cat</th>\n",
       "      <th>Fare_log2</th>\n",
       "      <th>Fare_Cat</th>\n",
       "      <th>Name_Length</th>\n",
       "      <th>Name_With_Special_Char</th>\n",
       "      <th>Family_Size</th>\n",
       "      <th>Title</th>\n",
       "    </tr>\n",
       "  </thead>\n",
       "  <tbody>\n",
       "    <tr>\n",
       "      <td>0</td>\n",
       "      <td>1</td>\n",
       "      <td>0</td>\n",
       "      <td>3</td>\n",
       "      <td>1</td>\n",
       "      <td>22.0</td>\n",
       "      <td>1</td>\n",
       "      <td>0</td>\n",
       "      <td>2</td>\n",
       "      <td>0</td>\n",
       "      <td>0</td>\n",
       "      <td>0</td>\n",
       "      <td>1</td>\n",
       "      <td>2.857981</td>\n",
       "      <td>0</td>\n",
       "      <td>23</td>\n",
       "      <td>0</td>\n",
       "      <td>1</td>\n",
       "      <td>1</td>\n",
       "    </tr>\n",
       "    <tr>\n",
       "      <td>1</td>\n",
       "      <td>2</td>\n",
       "      <td>1</td>\n",
       "      <td>1</td>\n",
       "      <td>0</td>\n",
       "      <td>38.0</td>\n",
       "      <td>1</td>\n",
       "      <td>0</td>\n",
       "      <td>5</td>\n",
       "      <td>3</td>\n",
       "      <td>2</td>\n",
       "      <td>1</td>\n",
       "      <td>2</td>\n",
       "      <td>6.155492</td>\n",
       "      <td>5</td>\n",
       "      <td>51</td>\n",
       "      <td>1</td>\n",
       "      <td>1</td>\n",
       "      <td>3</td>\n",
       "    </tr>\n",
       "    <tr>\n",
       "      <td>2</td>\n",
       "      <td>3</td>\n",
       "      <td>1</td>\n",
       "      <td>3</td>\n",
       "      <td>0</td>\n",
       "      <td>26.0</td>\n",
       "      <td>0</td>\n",
       "      <td>0</td>\n",
       "      <td>7</td>\n",
       "      <td>0</td>\n",
       "      <td>0</td>\n",
       "      <td>0</td>\n",
       "      <td>1</td>\n",
       "      <td>2.986411</td>\n",
       "      <td>0</td>\n",
       "      <td>22</td>\n",
       "      <td>0</td>\n",
       "      <td>0</td>\n",
       "      <td>2</td>\n",
       "    </tr>\n",
       "    <tr>\n",
       "      <td>3</td>\n",
       "      <td>4</td>\n",
       "      <td>1</td>\n",
       "      <td>1</td>\n",
       "      <td>0</td>\n",
       "      <td>35.0</td>\n",
       "      <td>1</td>\n",
       "      <td>0</td>\n",
       "      <td>1</td>\n",
       "      <td>3</td>\n",
       "      <td>0</td>\n",
       "      <td>1</td>\n",
       "      <td>2</td>\n",
       "      <td>5.730640</td>\n",
       "      <td>4</td>\n",
       "      <td>44</td>\n",
       "      <td>1</td>\n",
       "      <td>1</td>\n",
       "      <td>3</td>\n",
       "    </tr>\n",
       "    <tr>\n",
       "      <td>4</td>\n",
       "      <td>5</td>\n",
       "      <td>0</td>\n",
       "      <td>3</td>\n",
       "      <td>1</td>\n",
       "      <td>35.0</td>\n",
       "      <td>0</td>\n",
       "      <td>0</td>\n",
       "      <td>1</td>\n",
       "      <td>0</td>\n",
       "      <td>0</td>\n",
       "      <td>0</td>\n",
       "      <td>2</td>\n",
       "      <td>3.008989</td>\n",
       "      <td>0</td>\n",
       "      <td>24</td>\n",
       "      <td>0</td>\n",
       "      <td>0</td>\n",
       "      <td>1</td>\n",
       "    </tr>\n",
       "  </tbody>\n",
       "</table>\n",
       "</div>"
      ],
      "text/plain": [
       "   PassengerId  Survived  Pclass  Sex   Age  SibSp  Parch  Ticket  Cabin  \\\n",
       "0            1         0       3    1  22.0      1      0       2      0   \n",
       "1            2         1       1    0  38.0      1      0       5      3   \n",
       "2            3         1       3    0  26.0      0      0       7      0   \n",
       "3            4         1       1    0  35.0      1      0       1      3   \n",
       "4            5         0       3    1  35.0      0      0       1      0   \n",
       "\n",
       "   Embarked  Has_Cabin  Age_Cat  Fare_log2  Fare_Cat  Name_Length  \\\n",
       "0         0          0        1   2.857981         0           23   \n",
       "1         2          1        2   6.155492         5           51   \n",
       "2         0          0        1   2.986411         0           22   \n",
       "3         0          1        2   5.730640         4           44   \n",
       "4         0          0        2   3.008989         0           24   \n",
       "\n",
       "   Name_With_Special_Char  Family_Size  Title  \n",
       "0                       0            1      1  \n",
       "1                       1            1      3  \n",
       "2                       0            0      2  \n",
       "3                       1            1      3  \n",
       "4                       0            0      1  "
      ]
     },
     "execution_count": 3,
     "metadata": {},
     "output_type": "execute_result"
    }
   ],
   "source": [
    "df = pd.read_csv('train.csv')\n",
    "df = preprocess(df)\n",
    "df.head()"
   ]
  },
  {
   "cell_type": "code",
   "execution_count": 4,
   "metadata": {},
   "outputs": [],
   "source": [
    "X = df[['Pclass', 'Sex', 'Age', 'SibSp', 'Parch',\n",
    "       'Ticket', 'Cabin', 'Embarked', 'Has_Cabin', 'Age_Cat', 'Fare_log2',\n",
    "       'Fare_Cat', 'Name_Length', 'Name_With_Special_Char', 'Family_Size',\n",
    "       'Title']]\n",
    "Y = df['Survived']"
   ]
  },
  {
   "cell_type": "code",
   "execution_count": 6,
   "metadata": {},
   "outputs": [
    {
     "name": "stdout",
     "output_type": "stream",
     "text": [
      "(623, 16)\n",
      "(268, 16)\n",
      "(623,)\n",
      "(268,)\n"
     ]
    }
   ],
   "source": [
    "from sklearn.model_selection  import train_test_split\n",
    "\n",
    "X_train, X_valid, Y_train, Y_valid = train_test_split(X, Y, test_size =0.3, random_state=1212)  ## 一般如果測試資料集超過1000筆就可以了，所以比率不會設這麼高\n",
    "print(X_train.shape)  ## (445, 17)\n",
    "print(X_valid.shape)  ## (446, 17) \n",
    "print(Y_train.shape)  ## (445,)\n",
    "print(Y_valid.shape)  ## (446,)"
   ]
  },
  {
   "cell_type": "code",
   "execution_count": 7,
   "metadata": {},
   "outputs": [
    {
     "name": "stderr",
     "output_type": "stream",
     "text": [
      "C:\\Users\\Student\\AppData\\Local\\Programs\\Python\\Python36\\lib\\site-packages\\sklearn\\svm\\base.py:193: FutureWarning: The default value of gamma will change from 'auto' to 'scale' in version 0.22 to account better for unscaled features. Set gamma explicitly to 'auto' or 'scale' to avoid this warning.\n",
      "  \"avoid this warning.\", FutureWarning)\n",
      "C:\\Users\\Student\\AppData\\Local\\Programs\\Python\\Python36\\lib\\site-packages\\sklearn\\ensemble\\forest.py:245: FutureWarning: The default value of n_estimators will change from 10 in version 0.20 to 100 in 0.22.\n",
      "  \"10 in version 0.20 to 100 in 0.22.\", FutureWarning)\n"
     ]
    },
    {
     "name": "stdout",
     "output_type": "stream",
     "text": [
      "SVM:  0.7686567164179104\n",
      "DecisionTree:  0.7276119402985075\n",
      "RandomForest:  0.835820895522388\n",
      "AdaBoost:  0.7947761194029851\n",
      "XGB:  0.835820895522388\n"
     ]
    }
   ],
   "source": [
    "def get_accuracy(clf):\n",
    "    #=============your works starts===============#\n",
    "    clf = clf()\n",
    "    clf = clf.fit(X_train, Y_train)\n",
    "    y_pred = clf.predict(X_valid)\n",
    "    accuracy = np.sum(y_pred == Y_valid) / len(Y_valid)\n",
    "    #==============your works ends================#\n",
    "    return accuracy\n",
    "\n",
    "print('SVM: ', get_accuracy(SVC))\n",
    "print('DecisionTree: ', get_accuracy(DecisionTreeClassifier))\n",
    "print('RandomForest: ', get_accuracy(RandomForestClassifier))\n",
    "print('AdaBoost: ', get_accuracy(AdaBoostClassifier))  ## Boosting的演算法\n",
    "print('XGB: ', get_accuracy(XGBClassifier))\n",
    "\n",
    "# SVM:  0.6455223880597015\n",
    "# DecisionTree:  0.7873134328358209\n",
    "# RandomForest:  0.8470149253731343\n",
    "# AdaBoost:  0.7910447761194029\n",
    "# XGB:  0.8432835820895522"
   ]
  },
  {
   "cell_type": "code",
   "execution_count": 8,
   "metadata": {
    "scrolled": true
   },
   "outputs": [
    {
     "name": "stderr",
     "output_type": "stream",
     "text": [
      "C:\\Users\\Student\\AppData\\Local\\Programs\\Python\\Python36\\lib\\site-packages\\xgboost\\core.py:587: FutureWarning: Series.base is deprecated and will be removed in a future version\n",
      "  if getattr(data, 'base', None) is not None and \\\n"
     ]
    },
    {
     "name": "stdout",
     "output_type": "stream",
     "text": [
      "Accuracy:  0.8470149253731343\n"
     ]
    }
   ],
   "source": [
    "# Set our parameters for xgboost\n",
    "params = {}\n",
    "# 請填入以下參數: \n",
    "# 目標函數: 二元分類\n",
    "# 評價函數: logloss\n",
    "# 學習速度: 0.04\n",
    "# 最大深度: 5\n",
    "#=============your works starts===============#\n",
    "params['objective'] = 'binary:logistic'\n",
    "params['eval_metric'] = ['logloss', 'error', 'error@0.3']    \n",
    "params['eta'] = 0.04       #learning rate: 學習時所增加值的幅度, 太大會有過度修正, 來回跳動的問題, 太小學習慢\n",
    "params['max_depth'] = 5    \n",
    "#==============your works ends================#\n",
    "\n",
    "d_train = xgboost.DMatrix(X_train, label=Y_train)\n",
    "d_valid = xgboost.DMatrix(X_valid, label=Y_valid)\n",
    "\n",
    "watchlist = [(d_train, 'train'), (d_valid, 'valid')]\n",
    "\n",
    "bst = xgboost.train(params, d_train, 1000, watchlist, early_stopping_rounds=100, verbose_eval=0)  \n",
    "# verbose_eval 看跑的過程\n",
    "y_pred = bst.predict(xgboost.DMatrix(X_valid))\n",
    "print(\"Accuracy: \", str(sum(Y_valid == (y_pred > 0.5))/Y_valid.shape[0]))\n"
   ]
  },
  {
   "cell_type": "code",
   "execution_count": 10,
   "metadata": {},
   "outputs": [
    {
     "data": {
      "image/png": "[encoded data removed]",
      "text/plain": [
       "<Figure size 432x288 with 1 Axes>"
      ]
     },
     "metadata": {
      "needs_background": "light"
     },
     "output_type": "display_data"
    }
   ],
   "source": [
    "plt.plot(sorted(y_pred))\n",
    "plt.show()"
   ]
  },
  {
   "cell_type": "code",
   "execution_count": null,
   "metadata": {},
   "outputs": [],
   "source": []
  },
  {
   "cell_type": "code",
   "execution_count": null,
   "metadata": {},
   "outputs": [],
   "source": []
  },
  {
   "cell_type": "code",
   "execution_count": null,
   "metadata": {},
   "outputs": [],
   "source": []
  },
  {
   "cell_type": "code",
   "execution_count": 14,
   "metadata": {},
   "outputs": [
    {
     "data": {
      "image/png": "[encoded data removed]",
      "text/plain": [
       "<Figure size 432x288 with 1 Axes>"
      ]
     },
     "metadata": {
      "needs_background": "light"
     },
     "output_type": "display_data"
    }
   ],
   "source": [
    "# 請使用 xgboost.plot_importance，並設定max_num_features=10\n",
    "#!=============your works starts===============!#\n",
    "xgboost.plot_importance(bst, max_num_features=10)\n",
    "#!==============your works ends================!#\n",
    "\n",
    "plt.show()"
   ]
  },
  {
   "cell_type": "code",
   "execution_count": 22,
   "metadata": {},
   "outputs": [
    {
     "data": {
      "image/png": "[encoded data removed]",
      "text/plain": [
       "<Figure size 432x288 with 1 Axes>"
      ]
     },
     "metadata": {
      "needs_background": "light"
     },
     "output_type": "display_data"
    }
   ],
   "source": [
    "accs = []\n",
    "precisions = []\n",
    "recalls = []\n",
    "Fscores = []\n",
    "thresholds = np.arange(0, 1, 0.1)\n",
    "for thres in thresholds:\n",
    "    y_pred_inner = (y_pred>thres)\n",
    "    y_pred_inner = y_pred_inner # 模型預測他會存活\n",
    "    Y_valid_inner = Y_valid.astype(np.bool) # 實際上他存活\n",
    "    TP = np.sum((y_pred_inner == True) * (Y_valid_inner == True))\n",
    "    TN = np.sum((y_pred_inner == False) * (Y_valid_inner == False))\n",
    "    FP = np.sum((y_pred_inner == True) * (Y_valid_inner == False))\n",
    "    FN = np.sum((y_pred_inner == False) * (Y_valid_inner == True))\n",
    "    acc = (TP+TN) / (TP+TN+FP+FN)\n",
    "    precision = TP / (TP+FP)\n",
    "    recall = TP / (TP+FN)\n",
    "    Fscore = 2*precision*recall / (precision + recall)\n",
    "    accs.append(acc)\n",
    "    precisions.append(precision)\n",
    "    recalls.append(recall)\n",
    "    Fscores.append(Fscore)\n",
    "    \n",
    "plt.plot(accs, label='accs')\n",
    "plt.plot(precisions, label='precisions')\n",
    "plt.plot(recalls, label='recalls')\n",
    "# plt.plot(Fscores, label='Fscores')\n",
    "plt.legend()\n",
    "plt.show()\n",
    "\n"
   ]
  },
  {
   "cell_type": "markdown",
   "metadata": {},
   "source": [
    "# 空氣品質"
   ]
  },
  {
   "cell_type": "code",
   "execution_count": 16,
   "metadata": {},
   "outputs": [],
   "source": [
    "# dateparse = lambda x: pd.datetime.strptime(x, '%d/%m/%Y %H:%M:%S')\n",
    "# dateparse_1 = lambda x: pd.datetime.strptime(x, '%Y-%m-%d %H:%M:%S')\n",
    "# EPA_6 = pd.read_csv('air_pollution_data/EPA_OD_201806.csv', parse_dates=['PublishTime'], date_parser=dateparse)\n",
    "# EPA_7 = pd.read_csv('air_pollution_data/EPA_OD_201807.csv', parse_dates=['PublishTime'], date_parser=dateparse)\n",
    "# EPA_8 = pd.read_csv('air_pollution_data/EPA_OD_201808.csv', parse_dates=['PublishTime'], date_parser=dateparse)\n",
    "# EPA_9 = pd.read_csv('air_pollution_data/EPA_OD_201809.csv', parse_dates=['PublishTime'], date_parser=dateparse)\n",
    "# EPA_10 = pd.read_csv('air_pollution_data/EPA_OD_201810.csv', parse_dates=['PublishTime'], date_parser=dateparse)\n",
    "# EPA_11 = pd.read_csv('air_pollution_data/EPA_OD_201811.csv', parse_dates=['PublishTime'], date_parser=dateparse)\n",
    "# EPA_12 = pd.read_csv('air_pollution_data/EPA_OD_201812.csv', parse_dates=['PublishTime'], date_parser=dateparse_1)\n",
    "# frames = [EPA_6, EPA_7, EPA_8, EPA_9, EPA_10, EPA_11, EPA_12]\n",
    "# df_AQI = pd.concat(frames)\n",
    "# df_AQI.to_pickle('air_pollution_data.pkl')\n",
    "# df_AQI.head()"
   ]
  },
  {
   "cell_type": "code",
   "execution_count": 17,
   "metadata": {},
   "outputs": [],
   "source": [
    "# df_AQI = pd.read_pickle('air_pollution_data.pkl')\n",
    "# df_AQI.sort_values(by='PublishTime', inplace=True)\n",
    "# df_AQI = df_AQI.loc[df_AQI['SiteName'] == '麥寮', ['SiteName', 'AQI', 'PM2.5', 'SO2', 'PublishTime']]\n",
    "# df_AQI.to_pickle('df_AQI_gl.pkl')"
   ]
  },
  {
   "cell_type": "code",
   "execution_count": 18,
   "metadata": {},
   "outputs": [],
   "source": [
    "df_AQI = pd.read_pickle('df_AQI_gl.pkl')"
   ]
  },
  {
   "cell_type": "code",
   "execution_count": 19,
   "metadata": {},
   "outputs": [],
   "source": [
    "window = 7\n",
    "shift = 1\n",
    "segments = int((df_AQI.shape[0] - window) // shift) + 1\n",
    "\n",
    "train = np.zeros((segments-1, 2 * window))\n",
    "target = np.zeros((segments-1,))\n",
    "for segment in range(segments -1):\n",
    "    seg = df_AQI.iloc[segment:segment+window][['SO2', 'PM2.5']]\n",
    "    target[segment] = df_AQI.iloc[segment+window][['AQI']]\n",
    "    train[segment] = np.append(seg['SO2'].values, seg['PM2.5'].values)"
   ]
  },
  {
   "cell_type": "code",
   "execution_count": 20,
   "metadata": {},
   "outputs": [],
   "source": [
    "train = np.where(np.isnan(train), -1, train)\n",
    "target = np.where(np.isnan(target), int(np.nanmean(target)), target)"
   ]
  },
  {
   "cell_type": "code",
   "execution_count": 21,
   "metadata": {},
   "outputs": [
    {
     "data": {
      "text/plain": [
       "((4721, 14), (4721,))"
      ]
     },
     "execution_count": 21,
     "metadata": {},
     "output_type": "execute_result"
    }
   ],
   "source": [
    "train.shape, target.shape"
   ]
  },
  {
   "cell_type": "code",
   "execution_count": 22,
   "metadata": {},
   "outputs": [
    {
     "data": {
      "text/plain": [
       "((3776, 14), (3776,), (945, 14), (945,))"
      ]
     },
     "execution_count": 22,
     "metadata": {},
     "output_type": "execute_result"
    }
   ],
   "source": [
    "X_train, X_valid, Y_train, Y_valid = train_test_split(train, target, test_size=0.2, random_state=2019)\n",
    "X_train.shape, Y_train.shape, X_valid.shape, Y_valid.shape"
   ]
  },
  {
   "cell_type": "code",
   "execution_count": 44,
   "metadata": {},
   "outputs": [
    {
     "name": "stdout",
     "output_type": "stream",
     "text": [
      "[10:36:49] WARNING: C:/Jenkins/workspace/xgboost-win64_release_0.90/src/objective/regression_obj.cu:152: reg:linear is now deprecated in favor of reg:squarederror.\n"
     ]
    }
   ],
   "source": [
    "# Set our parameters for xgboost\n",
    "params = {}\n",
    "\n",
    "# 請填入以下參數: \n",
    "# 目標函數: 線性回歸\n",
    "# 評價函數: rmse\n",
    "# 學習速度: 0.01\n",
    "# 最大深度: 5\n",
    "# bst = xgboost.train(params, d_train, 3000, watchlist, early_stopping_rounds=50, verbose_eval=10)\n",
    "#=============your works starts===============#\n",
    "params['objective'] = 'reg:linear'\n",
    "params['eval_metric'] = 'rmse'\n",
    "params['eta'] = 0.03\n",
    "params['max_depth'] = 3\n",
    "d_train = xgboost.DMatrix(X_train, label=Y_train)\n",
    "d_valid = xgboost.DMatrix(X_valid, label=Y_valid)\n",
    "watchlist = [(d_train, 'train'), (d_valid, 'valid')]\n",
    "bst = xgboost.train(params, d_train, 3000, watchlist, early_stopping_rounds=100, verbose_eval=0)\n",
    "Y_pred = bst.predict(xgboost.DMatrix(X_valid))\n",
    "#==============your works ends================#\n"
   ]
  },
  {
   "cell_type": "code",
   "execution_count": 36,
   "metadata": {},
   "outputs": [
    {
     "data": {
      "image/png": "[encoded data removed]",
      "text/plain": [
       "<Figure size 432x288 with 1 Axes>"
      ]
     },
     "metadata": {
      "needs_background": "light"
     },
     "output_type": "display_data"
    }
   ],
   "source": [
    "# 請使用 xgboost.plot_importance，並設定max_num_features=10\n",
    "#!=============your works starts===============!#\n",
    "xgboost.plot_importance(bst, max_num_features=10)\n",
    "#!==============your works ends================!#\n",
    "\n",
    "plt.show()"
   ]
  },
  {
   "cell_type": "code",
   "execution_count": 37,
   "metadata": {},
   "outputs": [
    {
     "data": {
      "image/png": "[encoded data removed]",
      "text/plain": [
       "<Figure size 432x288 with 1 Axes>"
      ]
     },
     "metadata": {
      "needs_background": "light"
     },
     "output_type": "display_data"
    }
   ],
   "source": [
    "plt.plot(Y_pred, label='Y_pred', alpha=0.5, c='r')\n",
    "plt.plot(Y_valid, label='Y_valid', alpha=0.5, c='g')\n",
    "plt.show()"
   ]
  },
  {
   "cell_type": "code",
   "execution_count": 40,
   "metadata": {},
   "outputs": [
    {
     "data": {
      "text/html": [
       "<div>\n",
       "<style scoped>\n",
       "    .dataframe tbody tr th:only-of-type {\n",
       "        vertical-align: middle;\n",
       "    }\n",
       "\n",
       "    .dataframe tbody tr th {\n",
       "        vertical-align: top;\n",
       "    }\n",
       "\n",
       "    .dataframe thead th {\n",
       "        text-align: right;\n",
       "    }\n",
       "</style>\n",
       "<table border=\"1\" class=\"dataframe\">\n",
       "  <thead>\n",
       "    <tr style=\"text-align: right;\">\n",
       "      <th></th>\n",
       "      <th>predict</th>\n",
       "      <th>truth</th>\n",
       "      <th>error</th>\n",
       "    </tr>\n",
       "  </thead>\n",
       "  <tbody>\n",
       "    <tr>\n",
       "      <td>438</td>\n",
       "      <td>20.411615</td>\n",
       "      <td>20.0</td>\n",
       "      <td>0.020581</td>\n",
       "    </tr>\n",
       "    <tr>\n",
       "      <td>619</td>\n",
       "      <td>20.378187</td>\n",
       "      <td>21.0</td>\n",
       "      <td>0.029610</td>\n",
       "    </tr>\n",
       "    <tr>\n",
       "      <td>255</td>\n",
       "      <td>20.411615</td>\n",
       "      <td>21.0</td>\n",
       "      <td>0.028018</td>\n",
       "    </tr>\n",
       "    <tr>\n",
       "      <td>624</td>\n",
       "      <td>20.411615</td>\n",
       "      <td>21.0</td>\n",
       "      <td>0.028018</td>\n",
       "    </tr>\n",
       "    <tr>\n",
       "      <td>638</td>\n",
       "      <td>20.411615</td>\n",
       "      <td>21.0</td>\n",
       "      <td>0.028018</td>\n",
       "    </tr>\n",
       "  </tbody>\n",
       "</table>\n",
       "</div>"
      ],
      "text/plain": [
       "       predict  truth     error\n",
       "438  20.411615   20.0  0.020581\n",
       "619  20.378187   21.0  0.029610\n",
       "255  20.411615   21.0  0.028018\n",
       "624  20.411615   21.0  0.028018\n",
       "638  20.411615   21.0  0.028018"
      ]
     },
     "execution_count": 40,
     "metadata": {},
     "output_type": "execute_result"
    }
   ],
   "source": [
    "df_result = pd.DataFrame()\n",
    "\n",
    "# 1. 使用X_valid去評價此模型\n",
    "# 2. 使用 ['predict', 'truth', 'error'] 三個欄位的DataFrame去使決畫呈現預測結果\n",
    "#    (1). 請注意與測結果(Y_pred)與真實值(Y_valid)都必須取exp方能反映實際情況\n",
    "#    (2). error 請使用計算np.abs(predict-truth)/truth計算誤差百分比\n",
    "# 3. 使用truth欄位排序dataframe rows\n",
    "#=============your works starts===============#\n",
    "Y_pred = bst.predict(xgboost.DMatrix(X_valid))\n",
    "df_result['predict'] = Y_pred\n",
    "df_result['truth'] = Y_valid\n",
    "df_result['error'] = np.abs(Y_pred - Y_valid)/ Y_valid\n",
    "df_result_sort = df_result.sort_values('truth')\n",
    "#==============your works ends================#\n",
    "\n",
    "df_result_sort.head()"
   ]
  },
  {
   "cell_type": "code",
   "execution_count": 39,
   "metadata": {
    "scrolled": true
   },
   "outputs": [
    {
     "data": {
      "image/png": "[encoded data removed]",
      "text/plain": [
       "<Figure size 432x288 with 1 Axes>"
      ]
     },
     "metadata": {
      "needs_background": "light"
     },
     "output_type": "display_data"
    }
   ],
   "source": [
    "# 請使用df_result_sort畫出error的分布圖\n",
    "#!=============your works starts===============!#\n",
    "df_result_sort['error'].plot(kind='hist', bins=12)\n",
    "#!==============your works ends================!#\n",
    "\n",
    "plt.show()"
   ]
  },
  {
   "cell_type": "code",
   "execution_count": 19,
   "metadata": {},
   "outputs": [
    {
     "name": "stderr",
     "output_type": "stream",
     "text": [
      "No handles with labels found to put in legend.\n"
     ]
    },
    {
     "data": {
      "image/png": "[encoded data removed]",
      "text/plain": [
       "<Figure size 432x288 with 1 Axes>"
      ]
     },
     "metadata": {
      "needs_background": "light"
     },
     "output_type": "display_data"
    }
   ],
   "source": [
    "# 請使用plt.scatter，以0~len(df_result)作為x，預測值(黑色)與實際值(紅色)作為y。\n",
    "#!=============your works starts===============!#\n",
    "\n",
    "\n",
    "#!==============your works ends================!#\n",
    "\n",
    "plt.legend()\n",
    "plt.show()"
   ]
  },
  {
   "cell_type": "markdown",
   "metadata": {},
   "source": [
    "# 水稻田"
   ]
  },
  {
   "cell_type": "code",
   "execution_count": 83,
   "metadata": {},
   "outputs": [],
   "source": [
    "import os\n",
    "import tarfile\n",
    "import shutil\n",
    "import pandas as pd\n",
    "import numpy as np\n",
    "import pylab as plt\n",
    "import cv2\n",
    "img_dir = os.path.join('farm_data', 'lands_pieces_tif_practice')\n"
   ]
  },
  {
   "cell_type": "code",
   "execution_count": 19,
   "metadata": {},
   "outputs": [],
   "source": [
    "class Normalizer():\n",
    "    def fit(self, X, min_val=None, max_val=None):\n",
    "        self.min = np.nanmin(X) if min_val == None else min_val\n",
    "        self.max = np.nanmax(X) if max_val == None else max_val\n",
    "        \n",
    "    def transform(self, X):\n",
    "        return (X - self.min) / (self.max - self.min)\n",
    "\n",
    "    def fit_transform(self, X, min_val=None, max_val=None):\n",
    "        self.fit(X, min_val, max_val)\n",
    "        return self.transform(X)\n",
    "        \n",
    "    def reverse_transform(self, Y):\n",
    "        return (Y * (self.max - self.min)) + self.min\n"
   ]
  },
  {
   "cell_type": "code",
   "execution_count": 2,
   "metadata": {},
   "outputs": [],
   "source": [
    "if not os.path.isdir(img_dir):\n",
    "    tar = tarfile.open(os.path.join('farm_data',  'lands_pieces_tif_practice.tar.gz'))\n",
    "    names = tar.getnames()\n",
    "    for name in names:\n",
    "        tar.extract(name,path=os.path.join('farm_data'))\n",
    "    tar.close()"
   ]
  },
  {
   "cell_type": "code",
   "execution_count": 77,
   "metadata": {},
   "outputs": [],
   "source": [
    "# fps = [os.path.join(img_dir, fn) for fn in os.listdir(img_dir)]\n",
    "# i=0\n",
    "# for fp in fps[:10]:\n",
    "#     X = get_nparray(fp)\n",
    "#     X = X[:, :, [i+3, i+2, i+1]]\n",
    "#     X[X==0] = 1\n",
    "#     X = np.log(X)\n",
    "#     plt.imshow(X)\n",
    "#     plt.imshow(Normalizer().fit_transform(X, min_val=0, max_val=9.913))\n",
    "#     plt.show()\n"
   ]
  },
  {
   "cell_type": "code",
   "execution_count": null,
   "metadata": {},
   "outputs": [],
   "source": [
    "def get_nparray(fp):\n",
    "    # use np.load to load npy data\n",
    "    with open(fp, 'rb') as f:\n",
    "        #=============your works starts===============#\n",
    "        X =\n",
    "        #==============your works ends================#\n",
    "    return X\n",
    "\n",
    "def pad_img_to_300(X, pad_to_n_cols, pad_to_n_rows):\n",
    "    rows, cols = X.shape[:2]\n",
    "    padded_cols = pad_to_n_cols - cols if cols < pad_to_n_cols else 0\n",
    "    padded_rows = pad_to_n_rows - rows if rows < pad_to_n_rows else 0\n",
    "    # use np.pad with param('constant', constant_values=0) to pad_to_n_cols, pad_to_n_rows\n",
    "    #=============your works starts===============#\n",
    "    X =\n",
    "    #==============your works ends================#\n",
    "    return X"
   ]
  },
  {
   "cell_type": "code",
   "execution_count": 84,
   "metadata": {},
   "outputs": [
    {
     "data": {
      "text/plain": [
       "(2685, 42500)"
      ]
     },
     "execution_count": 84,
     "metadata": {},
     "output_type": "execute_result"
    }
   ],
   "source": [
    "# 1. get all fps for  os.listdir(img_dir)\n",
    "# 2. get all data from get_nparray\n",
    "# 3. pad_img_to_300\n",
    "# 4. use cv2 to resize  to (50, 50 ,-1) and flatten it\n",
    "# 5. flatten X\n",
    "#=============your works starts===============#\n",
    "fps =\n",
    "X =\n",
    "X =\n",
    "X =\n",
    "#==============your works ends================#\n",
    "\n",
    "X.shape"
   ]
  },
  {
   "cell_type": "code",
   "execution_count": 79,
   "metadata": {},
   "outputs": [
    {
     "data": {
      "text/plain": [
       "(2685,)"
      ]
     },
     "execution_count": 79,
     "metadata": {},
     "output_type": "execute_result"
    }
   ],
   "source": [
    "# 1. read csv  from os.path.join('farm_data', 'df_lands.csv')\n",
    "# 2. get all idxs from filename\n",
    "# 3. select CULTURE as Y\n",
    "#=============your works starts===============#\n",
    "df_lands =\n",
    "sel_idxs =\n",
    "Y =\n",
    "#==============your works ends================#\n",
    "\n",
    "Y.shape"
   ]
  },
  {
   "cell_type": "code",
   "execution_count": 86,
   "metadata": {},
   "outputs": [
    {
     "data": {
      "text/plain": [
       "((1879, 42500), (1879,), (806, 42500), (806,))"
      ]
     },
     "execution_count": 86,
     "metadata": {},
     "output_type": "execute_result"
    }
   ],
   "source": [
    "X_train, X_valid, Y_train, Y_valid = train_test_split(X, Y, test_size=0.3, random_state=2019)\n",
    "X_train.shape, Y_train.shape, X_valid.shape, Y_valid.shape"
   ]
  },
  {
   "cell_type": "code",
   "execution_count": null,
   "metadata": {},
   "outputs": [],
   "source": []
  },
  {
   "cell_type": "markdown",
   "metadata": {
    "collapsed": true
   },
   "source": [
    "# 房價資料集"
   ]
  },
  {
   "cell_type": "code",
   "execution_count": 20,
   "metadata": {},
   "outputs": [],
   "source": [
    "# import urllib.request\n",
    "# if 'df_realestate_processed.csv' not in os.listdir():\n",
    "#     url = 'https://s3.amazonaws.com/datasets-jeremy/df_realestate_processed.csv'  \n",
    "#     urllib.request.urlretrieve(url, 'df_realestate_processed.csv')\n",
    "    \n",
    "# # processed\n",
    "# path = \"df_realestate_processed.csv\"\n",
    "# df_realestate_processed = pd.read_csv(path)\n",
    "# X = df_realestate_processed.drop([\"price_per_meter\", \"total_price\"], axis=1)\n",
    "# Y = df_realestate_processed['total_price']\n"
   ]
  },
  {
   "cell_type": "code",
   "execution_count": 21,
   "metadata": {},
   "outputs": [],
   "source": [
    "# X_train = X.iloc[:-1000]\n",
    "# Y_train = Y.iloc[:-1000]\n",
    "# Y_train = np.log(Y_train) \n",
    "\n",
    "# X_valid = X.iloc[-1000:]\n",
    "# Y_valid = Y.iloc[-1000:]\n",
    "# Y_valid = np.log(Y_valid) "
   ]
  },
  {
   "cell_type": "code",
   "execution_count": 22,
   "metadata": {
    "scrolled": true
   },
   "outputs": [],
   "source": [
    "# # Set our parameters for xgboost\n",
    "# params = {}\n",
    "\n",
    "# # 請填入以下參數: \n",
    "# # 目標函數: 線性回歸\n",
    "# # 評價函數: rmse\n",
    "# # 學習速度: 0.01\n",
    "# # 最大深度: 5\n",
    "# # bst = xgboost.train(params, d_train, 3000, watchlist, early_stopping_rounds=50, verbose_eval=10)\n",
    "# #=============your works starts===============#\n",
    "# params['objective'] =\n",
    "# params['eval_metric'] =\n",
    "# params['eta'] =\n",
    "# params['max_depth'] =\n",
    "# d_train =\n",
    "# d_valid =\n",
    "# watchlist =\n",
    "# bst =\n",
    "# Y_pred =\n",
    "# #==============your works ends================#\n"
   ]
  },
  {
   "cell_type": "code",
   "execution_count": 23,
   "metadata": {},
   "outputs": [],
   "source": [
    "#　模型save與load的方式自己看\n",
    "# bst.save_model(\"bst_subtotal_log_with_cross.pickle.dat\")\n",
    "# bst = xgboost.Booster({'nthread':1}) #init model\n",
    "# bst.load_model(\"bst_subtotal_log_with_cross.pickle.dat\") # load data\n"
   ]
  },
  {
   "cell_type": "code",
   "execution_count": 24,
   "metadata": {
    "scrolled": true
   },
   "outputs": [],
   "source": [
    "# # 請使用 xgboost.plot_importance，並設定max_num_features=10\n",
    "# #!=============your works starts===============!#\n",
    "\n",
    "# #!==============your works ends================!#\n",
    "\n",
    "# plt.show()"
   ]
  },
  {
   "cell_type": "code",
   "execution_count": 25,
   "metadata": {},
   "outputs": [],
   "source": [
    "# df_result = pd.DataFrame()\n",
    "\n",
    "# # 1. 使用X_valid去評價此模型\n",
    "# # 2. 使用 ['predict', 'truth', 'error'] 三個欄位的DataFrame去使決畫呈現預測結果\n",
    "# #    (1). 請注意與測結果(Y_pred)與真實值(Y_valid)都必須取exp方能反映實際情況\n",
    "# #    (2). error 請使用計算np.abs(predict-truth)/truth計算誤差百分比\n",
    "# #=============your works starts===============#\n",
    "# Y_pred =\n",
    "# df_result['predict'] =\n",
    "# df_result['truth'] =\n",
    "# df_result['error'] =\n",
    "# df_result_sort =\n",
    "# #==============your works ends================#\n",
    "\n",
    "# df_result.head()"
   ]
  },
  {
   "cell_type": "code",
   "execution_count": 26,
   "metadata": {},
   "outputs": [],
   "source": [
    "# # 請使用df_result_sort濾掉error大於1的部分畫出error的分布圖\n",
    "# #!=============your works starts===============!#\n",
    "\n",
    "# #!==============your works ends================!#\n",
    "\n",
    "# plt.show()"
   ]
  },
  {
   "cell_type": "code",
   "execution_count": 27,
   "metadata": {},
   "outputs": [],
   "source": [
    "# # 請使用plt.scatter，以0~len(df_result)作為x，預測值(黑色)與實際值(紅色)作為y。\n",
    "# #!=============your works starts===============!#\n",
    "\n",
    "\n",
    "# #!==============your works ends================!#\n",
    "\n",
    "# plt.show()"
   ]
  },
  {
   "cell_type": "code",
   "execution_count": null,
   "metadata": {},
   "outputs": [],
   "source": []
  }
 ],
 "metadata": {
  "kernelspec": {
   "display_name": "IIIMaterial",
   "language": "python",
   "name": "iiimaterial"
  },
  "language_info": {
   "codemirror_mode": {
    "name": "ipython",
    "version": 3
   },
   "file_extension": ".py",
   "mimetype": "text/x-python",
   "name": "python",
   "nbconvert_exporter": "python",
   "pygments_lexer": "ipython3",
   "version": "3.6.8"
  }
 },
 "nbformat": 4,
 "nbformat_minor": 2
}
