{
 "cells": [
  {
   "cell_type": "code",
   "execution_count": 21,
   "metadata": {},
   "outputs": [],
   "source": [
    "import re\n",
    "import os\n",
    "import shutil\n",
    "import numpy as np\n",
    "import zipfile\n",
    "\n",
    "\n",
    "ppts_dir = 'ppts'\n",
    "if not os.path.isdir(ppts_dir):\n",
    "    os.mkdir(ppts_dir)"
   ]
  },
  {
   "cell_type": "code",
   "execution_count": 22,
   "metadata": {},
   "outputs": [],
   "source": [
    "for fp in np.hstack([[os.path.join(d, f) for f in os.listdir(d) if f.endswith('pptx')] for d in os.listdir() if len(re.findall('\\d\\d\\_', d))>0]):\n",
    "    fn = os.path.split(fp)[-1]\n",
    "    shutil.copyfile(fp, os.path.join(ppts_dir, fn))\n"
   ]
  },
  {
   "cell_type": "code",
   "execution_count": 24,
   "metadata": {},
   "outputs": [],
   "source": [
    "def zipdir(dir_fp, zip_fp):\n",
    "    zip_f = zipfile.ZipFile(zip_fp, 'w', zipfile.ZIP_DEFLATED)\n",
    "    for f in os.listdir(dir_fp):\n",
    "        zip_f.write(os.path.join(dir_fp, f))\n",
    "    zip_f.close()\n",
    "    \n",
    "zipdir(ppts_dir, os.path.join('static', \"ML.zip\"))"
   ]
  },
  {
   "cell_type": "code",
   "execution_count": 25,
   "metadata": {},
   "outputs": [],
   "source": [
    "shutil.rmtree(ppts_dir)"
   ]
  },
  {
   "cell_type": "code",
   "execution_count": null,
   "metadata": {},
   "outputs": [],
   "source": []
  }
 ],
 "metadata": {
  "kernelspec": {
   "display_name": "IIIMaterial",
   "language": "python",
   "name": "iiimaterial"
  },
  "language_info": {
   "codemirror_mode": {
    "name": "ipython",
    "version": 3
   },
   "file_extension": ".py",
   "mimetype": "text/x-python",
   "name": "python",
   "nbconvert_exporter": "python",
   "pygments_lexer": "ipython3",
   "version": "3.6.7"
  }
 },
 "nbformat": 4,
 "nbformat_minor": 2
}
